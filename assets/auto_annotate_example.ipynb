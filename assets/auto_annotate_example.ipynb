{
  "nbformat": 4,
  "nbformat_minor": 0,
  "metadata": {
    "colab": {
      "provenance": []
    },
    "kernelspec": {
      "name": "python3",
      "display_name": "Python 3"
    },
    "language_info": {
      "name": "python"
    }
  },
  "cells": [
    {
      "cell_type": "markdown",
      "source": [
        "# Auto Annotation for Object Detection\n",
        "If you have ever worked with object detection, you know that you need to spend hours in the manual process of creating annotations, drawing the box positions of the desired objects.\n",
        "\n",
        "This simple notebook shows how to use the [auto-annotate](https://github.com/AlvaroCavalcante/auto_annotate) library, a python project to make the data annotation process faster and easier.\n",
        "\n",
        "To learn more details about the tool, I recommend you check my [Medium article](https://medium.com/towards-data-science/auto-labeling-tool-for-object-detection-acf410a600b8) or the [Github repo](https://github.com/AlvaroCavalcante/auto_annotate). That said, let's start coding."
      ],
      "metadata": {
        "id": "L6W0-XKwXSGu"
      }
    },
    {
      "cell_type": "markdown",
      "source": [
        "# Installing the library\n",
        "\n",
        "The first step is to verify the current Python version. At this moment, auto annotate is compatible with **Python >= 3.8**"
      ],
      "metadata": {
        "id": "-Dnf4j0GXUfL"
      }
    },
    {
      "cell_type": "code",
      "source": [
        "!python --version"
      ],
      "metadata": {
        "colab": {
          "base_uri": "https://localhost:8080/"
        },
        "id": "zR9UVDvJXrSt",
        "outputId": "148652d9-ff4e-4a61-99ba-b45ee329a348"
      },
      "execution_count": null,
      "outputs": [
        {
          "output_type": "stream",
          "name": "stdout",
          "text": [
            "Python 3.8.16\n"
          ]
        }
      ]
    },
    {
      "cell_type": "markdown",
      "source": [
        "After that, you can easily install the library using pip, as show bellow:"
      ],
      "metadata": {
        "id": "-qpGyd8gZkeI"
      }
    },
    {
      "cell_type": "code",
      "execution_count": null,
      "metadata": {
        "colab": {
          "base_uri": "https://localhost:8080/",
          "height": 1000
        },
        "id": "pua57nafXNg3",
        "outputId": "39da2e15-3ac0-412c-8afe-9600cac47142"
      },
      "outputs": [
        {
          "output_type": "stream",
          "name": "stdout",
          "text": [
            "Looking in indexes: https://pypi.org/simple, https://us-python.pkg.dev/colab-wheels/public/simple/\n",
            "Collecting auto-annotate==1.0.5\n",
            "  Downloading auto_annotate-1.0.5-py3-none-any.whl (15 kB)\n",
            "Collecting numpy==1.22.4\n",
            "  Downloading numpy-1.22.4-cp38-cp38-manylinux_2_17_x86_64.manylinux2014_x86_64.whl (16.9 MB)\n",
            "\u001b[2K     \u001b[90m━━━━━━━━━━━━━━━━━━━━━━━━━━━━━━━━━━━━━━━━\u001b[0m \u001b[32m16.9/16.9 MB\u001b[0m \u001b[31m36.7 MB/s\u001b[0m eta \u001b[36m0:00:00\u001b[0m\n",
            "\u001b[?25hCollecting Pillow==9.3.0\n",
            "  Downloading Pillow-9.3.0-cp38-cp38-manylinux_2_17_x86_64.manylinux2014_x86_64.whl (3.2 MB)\n",
            "\u001b[2K     \u001b[90m━━━━━━━━━━━━━━━━━━━━━━━━━━━━━━━━━━━━━━━━\u001b[0m \u001b[32m3.2/3.2 MB\u001b[0m \u001b[31m70.2 MB/s\u001b[0m eta \u001b[36m0:00:00\u001b[0m\n",
            "\u001b[?25hRequirement already satisfied: tqdm==4.64.1 in /usr/local/lib/python3.8/dist-packages (from auto-annotate==1.0.5) (4.64.1)\n",
            "Requirement already satisfied: tensorflow==2.11.0 in /usr/local/lib/python3.8/dist-packages (from auto-annotate==1.0.5) (2.11.0)\n",
            "Requirement already satisfied: six==1.16.0 in /usr/local/lib/python3.8/dist-packages (from auto-annotate==1.0.5) (1.16.0)\n",
            "Requirement already satisfied: tensorboard<2.12,>=2.11 in /usr/local/lib/python3.8/dist-packages (from tensorflow==2.11.0->auto-annotate==1.0.5) (2.11.0)\n",
            "Requirement already satisfied: tensorflow-io-gcs-filesystem>=0.23.1 in /usr/local/lib/python3.8/dist-packages (from tensorflow==2.11.0->auto-annotate==1.0.5) (0.29.0)\n",
            "Requirement already satisfied: packaging in /usr/local/lib/python3.8/dist-packages (from tensorflow==2.11.0->auto-annotate==1.0.5) (21.3)\n",
            "Requirement already satisfied: grpcio<2.0,>=1.24.3 in /usr/local/lib/python3.8/dist-packages (from tensorflow==2.11.0->auto-annotate==1.0.5) (1.51.1)\n",
            "Requirement already satisfied: wrapt>=1.11.0 in /usr/local/lib/python3.8/dist-packages (from tensorflow==2.11.0->auto-annotate==1.0.5) (1.14.1)\n",
            "Requirement already satisfied: opt-einsum>=2.3.2 in /usr/local/lib/python3.8/dist-packages (from tensorflow==2.11.0->auto-annotate==1.0.5) (3.3.0)\n",
            "Requirement already satisfied: h5py>=2.9.0 in /usr/local/lib/python3.8/dist-packages (from tensorflow==2.11.0->auto-annotate==1.0.5) (3.1.0)\n",
            "Requirement already satisfied: google-pasta>=0.1.1 in /usr/local/lib/python3.8/dist-packages (from tensorflow==2.11.0->auto-annotate==1.0.5) (0.2.0)\n",
            "Requirement already satisfied: typing-extensions>=3.6.6 in /usr/local/lib/python3.8/dist-packages (from tensorflow==2.11.0->auto-annotate==1.0.5) (4.4.0)\n",
            "Requirement already satisfied: gast<=0.4.0,>=0.2.1 in /usr/local/lib/python3.8/dist-packages (from tensorflow==2.11.0->auto-annotate==1.0.5) (0.4.0)\n",
            "Requirement already satisfied: astunparse>=1.6.0 in /usr/local/lib/python3.8/dist-packages (from tensorflow==2.11.0->auto-annotate==1.0.5) (1.6.3)\n",
            "Requirement already satisfied: absl-py>=1.0.0 in /usr/local/lib/python3.8/dist-packages (from tensorflow==2.11.0->auto-annotate==1.0.5) (1.3.0)\n",
            "Requirement already satisfied: flatbuffers>=2.0 in /usr/local/lib/python3.8/dist-packages (from tensorflow==2.11.0->auto-annotate==1.0.5) (23.1.4)\n",
            "Requirement already satisfied: setuptools in /usr/local/lib/python3.8/dist-packages (from tensorflow==2.11.0->auto-annotate==1.0.5) (57.4.0)\n",
            "Requirement already satisfied: protobuf<3.20,>=3.9.2 in /usr/local/lib/python3.8/dist-packages (from tensorflow==2.11.0->auto-annotate==1.0.5) (3.19.6)\n",
            "Requirement already satisfied: tensorflow-estimator<2.12,>=2.11.0 in /usr/local/lib/python3.8/dist-packages (from tensorflow==2.11.0->auto-annotate==1.0.5) (2.11.0)\n",
            "Requirement already satisfied: libclang>=13.0.0 in /usr/local/lib/python3.8/dist-packages (from tensorflow==2.11.0->auto-annotate==1.0.5) (14.0.6)\n",
            "Requirement already satisfied: termcolor>=1.1.0 in /usr/local/lib/python3.8/dist-packages (from tensorflow==2.11.0->auto-annotate==1.0.5) (2.1.1)\n",
            "Requirement already satisfied: keras<2.12,>=2.11.0 in /usr/local/lib/python3.8/dist-packages (from tensorflow==2.11.0->auto-annotate==1.0.5) (2.11.0)\n",
            "Requirement already satisfied: wheel<1.0,>=0.23.0 in /usr/local/lib/python3.8/dist-packages (from astunparse>=1.6.0->tensorflow==2.11.0->auto-annotate==1.0.5) (0.38.4)\n",
            "Requirement already satisfied: requests<3,>=2.21.0 in /usr/local/lib/python3.8/dist-packages (from tensorboard<2.12,>=2.11->tensorflow==2.11.0->auto-annotate==1.0.5) (2.25.1)\n",
            "Requirement already satisfied: google-auth<3,>=1.6.3 in /usr/local/lib/python3.8/dist-packages (from tensorboard<2.12,>=2.11->tensorflow==2.11.0->auto-annotate==1.0.5) (2.15.0)\n",
            "Requirement already satisfied: google-auth-oauthlib<0.5,>=0.4.1 in /usr/local/lib/python3.8/dist-packages (from tensorboard<2.12,>=2.11->tensorflow==2.11.0->auto-annotate==1.0.5) (0.4.6)\n",
            "Requirement already satisfied: tensorboard-plugin-wit>=1.6.0 in /usr/local/lib/python3.8/dist-packages (from tensorboard<2.12,>=2.11->tensorflow==2.11.0->auto-annotate==1.0.5) (1.8.1)\n",
            "Requirement already satisfied: werkzeug>=1.0.1 in /usr/local/lib/python3.8/dist-packages (from tensorboard<2.12,>=2.11->tensorflow==2.11.0->auto-annotate==1.0.5) (1.0.1)\n",
            "Requirement already satisfied: tensorboard-data-server<0.7.0,>=0.6.0 in /usr/local/lib/python3.8/dist-packages (from tensorboard<2.12,>=2.11->tensorflow==2.11.0->auto-annotate==1.0.5) (0.6.1)\n",
            "Requirement already satisfied: markdown>=2.6.8 in /usr/local/lib/python3.8/dist-packages (from tensorboard<2.12,>=2.11->tensorflow==2.11.0->auto-annotate==1.0.5) (3.4.1)\n",
            "Requirement already satisfied: pyparsing!=3.0.5,>=2.0.2 in /usr/local/lib/python3.8/dist-packages (from packaging->tensorflow==2.11.0->auto-annotate==1.0.5) (3.0.9)\n",
            "Requirement already satisfied: pyasn1-modules>=0.2.1 in /usr/local/lib/python3.8/dist-packages (from google-auth<3,>=1.6.3->tensorboard<2.12,>=2.11->tensorflow==2.11.0->auto-annotate==1.0.5) (0.2.8)\n",
            "Requirement already satisfied: rsa<5,>=3.1.4 in /usr/local/lib/python3.8/dist-packages (from google-auth<3,>=1.6.3->tensorboard<2.12,>=2.11->tensorflow==2.11.0->auto-annotate==1.0.5) (4.9)\n",
            "Requirement already satisfied: cachetools<6.0,>=2.0.0 in /usr/local/lib/python3.8/dist-packages (from google-auth<3,>=1.6.3->tensorboard<2.12,>=2.11->tensorflow==2.11.0->auto-annotate==1.0.5) (5.2.0)\n",
            "Requirement already satisfied: requests-oauthlib>=0.7.0 in /usr/local/lib/python3.8/dist-packages (from google-auth-oauthlib<0.5,>=0.4.1->tensorboard<2.12,>=2.11->tensorflow==2.11.0->auto-annotate==1.0.5) (1.3.1)\n",
            "Requirement already satisfied: importlib-metadata>=4.4 in /usr/local/lib/python3.8/dist-packages (from markdown>=2.6.8->tensorboard<2.12,>=2.11->tensorflow==2.11.0->auto-annotate==1.0.5) (5.2.0)\n",
            "Requirement already satisfied: urllib3<1.27,>=1.21.1 in /usr/local/lib/python3.8/dist-packages (from requests<3,>=2.21.0->tensorboard<2.12,>=2.11->tensorflow==2.11.0->auto-annotate==1.0.5) (1.24.3)\n",
            "Requirement already satisfied: certifi>=2017.4.17 in /usr/local/lib/python3.8/dist-packages (from requests<3,>=2.21.0->tensorboard<2.12,>=2.11->tensorflow==2.11.0->auto-annotate==1.0.5) (2022.12.7)\n",
            "Requirement already satisfied: chardet<5,>=3.0.2 in /usr/local/lib/python3.8/dist-packages (from requests<3,>=2.21.0->tensorboard<2.12,>=2.11->tensorflow==2.11.0->auto-annotate==1.0.5) (4.0.0)\n",
            "Requirement already satisfied: idna<3,>=2.5 in /usr/local/lib/python3.8/dist-packages (from requests<3,>=2.21.0->tensorboard<2.12,>=2.11->tensorflow==2.11.0->auto-annotate==1.0.5) (2.10)\n",
            "Requirement already satisfied: zipp>=0.5 in /usr/local/lib/python3.8/dist-packages (from importlib-metadata>=4.4->markdown>=2.6.8->tensorboard<2.12,>=2.11->tensorflow==2.11.0->auto-annotate==1.0.5) (3.11.0)\n",
            "Requirement already satisfied: pyasn1<0.5.0,>=0.4.6 in /usr/local/lib/python3.8/dist-packages (from pyasn1-modules>=0.2.1->google-auth<3,>=1.6.3->tensorboard<2.12,>=2.11->tensorflow==2.11.0->auto-annotate==1.0.5) (0.4.8)\n",
            "Requirement already satisfied: oauthlib>=3.0.0 in /usr/local/lib/python3.8/dist-packages (from requests-oauthlib>=0.7.0->google-auth-oauthlib<0.5,>=0.4.1->tensorboard<2.12,>=2.11->tensorflow==2.11.0->auto-annotate==1.0.5) (3.2.2)\n",
            "Installing collected packages: Pillow, numpy, auto-annotate\n",
            "  Attempting uninstall: Pillow\n",
            "    Found existing installation: Pillow 9.4.0\n",
            "    Uninstalling Pillow-9.4.0:\n",
            "      Successfully uninstalled Pillow-9.4.0\n",
            "  Attempting uninstall: numpy\n",
            "    Found existing installation: numpy 1.23.0\n",
            "    Uninstalling numpy-1.23.0:\n",
            "      Successfully uninstalled numpy-1.23.0\n",
            "  Attempting uninstall: auto-annotate\n",
            "    Found existing installation: auto-annotate 1.0.4\n",
            "    Uninstalling auto-annotate-1.0.4:\n",
            "      Successfully uninstalled auto-annotate-1.0.4\n",
            "Successfully installed Pillow-9.3.0 auto-annotate-1.0.5 numpy-1.22.4\n"
          ]
        },
        {
          "output_type": "display_data",
          "data": {
            "application/vnd.colab-display-data+json": {
              "pip_warning": {
                "packages": [
                  "PIL",
                  "numpy"
                ]
              }
            }
          },
          "metadata": {}
        }
      ],
      "source": [
        "!pip install auto-annotate==1.0.5"
      ]
    },
    {
      "cell_type": "markdown",
      "source": [
        "You may get some errors related to the pip dependency resolver, but it doesn't mean that the library was not installed successfully. You should see a message like this on the last line:\n",
        "\n",
        "```\n",
        "Successfully installed Pillow-9.4.0 auto-annotate-1.0.4 flatbuffers-23.1.4 keras-2.11.0 numpy-1.23.0 six-1.16.0 tensorboard-2.11.0 tensorflow-2.11.0 tensorflow-estimator-2.11.0\n",
        "```\n",
        "This indicates that the installation succeeds."
      ],
      "metadata": {
        "id": "Qp9w4Da9U0qQ"
      }
    },
    {
      "cell_type": "markdown",
      "source": [
        "# Data setup\n",
        "As I explained in the [tutorial](https://medium.com/towards-data-science/auto-labeling-tool-for-object-detection-acf410a600b8) you'll need some files and folders to use the tool correctly. Here's a short description of what you'll gonna need:\n",
        "\n",
        "- **Saved model path**: The path of the \"saved_model\" folder containing your pretrained object detection model. Read more about the savedModel format [here](https://www.tensorflow.org/guide/saved_model)\n",
        "- **Label map path**: The path of your label_map.pbtxt file containing your labels.\n",
        "- **Images path**: The path of the folder with your dataset images (**JUST** .jpg, .jpeg or .png files).\n",
        "- **XML path**: The path where you're going to save the generated annotations.\n",
        "\n",
        "Usually, the path of those files is on your local machine, but as I'm using Google Colab, it's necessary to upload the data to Google Drive to mount a partition in this environment and share the data. \n",
        "\n",
        "That said, I created a folder called \"auto_annotate_example\" on my Google Drive, with all the data that I need to use the tool, as shown bellow:"
      ],
      "metadata": {
        "id": "MAb8n_TJX8YY"
      }
    },
    {
      "cell_type": "markdown",
      "source": [
        "<a data-flickr-embed=\"true\" href=\"https://www.flickr.com/photos/188256566@N02/52618317692/in/dateposted-public/\" title=\"drive_structure\"><img src=\"https://live.staticflickr.com/65535/52618317692_6126e3d48c_c.jpg\" width=\"750\" height=\"455\" alt=\"drive_structure\"></a><script async src=\"//embedr.flickr.com/assets/client-code.js\" charset=\"utf-8\"></script>"
      ],
      "metadata": {
        "id": "L4tEPOHmZScx"
      }
    },
    {
      "cell_type": "markdown",
      "source": [
        "After that, it's necessary to use the google drive SDK to connect to your google account and mount your drive folder into the Colab environment. Read more about this [here](https://stackoverflow.com/questions/48376580/google-colab-how-to-read-data-from-my-google-drive)."
      ],
      "metadata": {
        "id": "4ZGwQvupZdrJ"
      }
    },
    {
      "cell_type": "code",
      "source": [
        "from google.colab import drive\n",
        "drive.mount('/content/gdrive/')"
      ],
      "metadata": {
        "colab": {
          "base_uri": "https://localhost:8080/"
        },
        "id": "m21Fl2e7ZvqK",
        "outputId": "3daa7f36-61f3-47e6-99b6-e29fae04af43"
      },
      "execution_count": null,
      "outputs": [
        {
          "output_type": "stream",
          "name": "stdout",
          "text": [
            "Mounted at /content/gdrive/\n"
          ]
        }
      ]
    },
    {
      "cell_type": "markdown",
      "source": [
        "If the Drive connection worked, you'll see a Google Drive in your folder structure containing your drive files, like shown bellow:"
      ],
      "metadata": {
        "id": "3B9FLnqCaRxE"
      }
    },
    {
      "cell_type": "markdown",
      "source": [
        "<a data-flickr-embed=\"true\" href=\"https://www.flickr.com/photos/188256566@N02/52619322668/in/dateposted-public/\" title=\"colab_drive\"><img src=\"https://live.staticflickr.com/65535/52619322668_b40a9d23ba_m.jpg\" width=\"240\" height=\"230\" alt=\"colab_drive\"></a><script async src=\"//embedr.flickr.com/assets/client-code.js\" charset=\"utf-8\"></script>"
      ],
      "metadata": {
        "id": "H6y6hv7ZacRy"
      }
    },
    {
      "cell_type": "markdown",
      "source": [
        "# Using Auto Annotation tool\n",
        "Finally, you just need to create a new AutoAnnotate instance with the path of your files to use the library.\n",
        "\n",
        "As I'm in google colab, I'll point to my google Drive path, which starts with \"/content\" (which is the default colab path). In my case, my saved mode path, for example, is:\n",
        "\n",
        "**\"/content/gdrive/MyDrive/auto_annotate_example/saved_model\"**"
      ],
      "metadata": {
        "id": "C2_E0JxOauQs"
      }
    },
    {
      "cell_type": "code",
      "source": [
        "from auto_annotate import AutoAnnotate\n",
        "\n",
        "ann_tool = AutoAnnotate(\n",
        "              saved_model_path = '/content/gdrive/MyDrive/auto_annotate_example/saved_model',\n",
        "              label_map_path = '/content/gdrive/MyDrive/auto_annotate_example/label_map.pbtxt',\n",
        "              images_path = '/content/gdrive/MyDrive/auto_annotate_example/image_dataset',\n",
        "              xml_path = '/content/gdrive/MyDrive/auto_annotate_example/xml_results',\n",
        "              detection_threshold = 0.5)\n",
        "\n",
        "ann_tool.generate_annotations()"
      ],
      "metadata": {
        "colab": {
          "base_uri": "https://localhost:8080/"
        },
        "id": "melXOxuAX7w4",
        "outputId": "ae6c18ea-02de-4eb7-cbe2-b894cf239d4f"
      },
      "execution_count": null,
      "outputs": [
        {
          "output_type": "stream",
          "name": "stdout",
          "text": [
            "Loading model into memory...\n",
            "Loading label map...\n",
            "Found 9 images to annotate.\n"
          ]
        },
        {
          "output_type": "stream",
          "name": "stderr",
          "text": [
            "100%|\u001b[32m██████████\u001b[0m| 9/9 [00:06<00:00,  1.48it/s]\n"
          ]
        }
      ]
    },
    {
      "cell_type": "markdown",
      "source": [
        "If everything worked as expected, you'll see a log like this:\n",
        "\n",
        "<a data-flickr-embed=\"true\" href=\"https://www.flickr.com/photos/188256566@N02/52619121064/in/dateposted-public/\" title=\"log\"><img src=\"https://live.staticflickr.com/65535/52619121064_67b74ed61e_m.jpg\" width=\"240\" height=\"88\" alt=\"log\"></a><script async src=\"//embedr.flickr.com/assets/client-code.js\" charset=\"utf-8\"></script>"
      ],
      "metadata": {
        "id": "GHZqOBM_d3YE"
      }
    },
    {
      "cell_type": "markdown",
      "source": [
        "Besides that, If you check your \"**xml_results**\" folder, you'll see the generated annotations. You can use a software like [LabelImg](https://github.com/heartexlabs/labelImg) to check the bounding boxes."
      ],
      "metadata": {
        "id": "aOocHvDKeIql"
      }
    },
    {
      "cell_type": "markdown",
      "source": [
        "# Using Annotation Tool from command line\n",
        "\n",
        "If you prefer, you can also use this tool in the command line, which is a better solution sometimes. The command below does the trick:"
      ],
      "metadata": {
        "id": "9RzYymh1fsWS"
      }
    },
    {
      "cell_type": "code",
      "source": [
        "!python -m auto_annotate --label_map_path /content/gdrive/MyDrive/auto_annotate_example/label_map.pbtxt \\\n",
        "--saved_model_path /content/gdrive/MyDrive/auto_annotate_example/saved_model \\\n",
        "--imgs_path /content/gdrive/MyDrive/auto_annotate_example/image_dataset \\\n",
        "--xml_path /content/gdrive/MyDrive/auto_annotate_example/xml_results \\\n",
        "--threshold 0.5"
      ],
      "metadata": {
        "colab": {
          "base_uri": "https://localhost:8080/"
        },
        "id": "ufOSBe-mf_Ee",
        "outputId": "4ad48070-9da8-41a5-bad1-a741b09cad6e"
      },
      "execution_count": null,
      "outputs": [
        {
          "output_type": "stream",
          "name": "stdout",
          "text": [
            "2023-01-10 11:46:50.614412: W tensorflow/compiler/xla/stream_executor/platform/default/dso_loader.cc:64] Could not load dynamic library 'libnvinfer.so.7'; dlerror: libnvinfer.so.7: cannot open shared object file: No such file or directory; LD_LIBRARY_PATH: /usr/local/nvidia/lib:/usr/local/nvidia/lib64\n",
            "2023-01-10 11:46:50.614659: W tensorflow/compiler/xla/stream_executor/platform/default/dso_loader.cc:64] Could not load dynamic library 'libnvinfer_plugin.so.7'; dlerror: libnvinfer_plugin.so.7: cannot open shared object file: No such file or directory; LD_LIBRARY_PATH: /usr/local/nvidia/lib:/usr/local/nvidia/lib64\n",
            "2023-01-10 11:46:50.614683: W tensorflow/compiler/tf2tensorrt/utils/py_utils.cc:38] TF-TRT Warning: Cannot dlopen some TensorRT libraries. If you would like to use Nvidia GPU with TensorRT, please make sure the missing libraries mentioned above are installed properly.\n",
            "Loading model into memory...\n",
            "2023-01-10 11:46:53.605804: E tensorflow/compiler/xla/stream_executor/cuda/cuda_driver.cc:267] failed call to cuInit: CUDA_ERROR_NO_DEVICE: no CUDA-capable device is detected\n",
            "Loading label map...\n",
            "Found 9 images to annotate.\n",
            "100% 9/9 [00:02<00:00,  3.32it/s]\n"
          ]
        }
      ]
    },
    {
      "cell_type": "markdown",
      "source": [
        "# Final thoughts\n",
        "\n",
        "If you're still facing some problems using the library, please, open a new [Issue](https://github.com/AlvaroCavalcante/auto_annotate/issues) and I'll be happy to help you. Otherwise, if you found the project useful, please, give a star on [Github](https://github.com/AlvaroCavalcante/auto_annotate) repo to make it more visible to others! "
      ],
      "metadata": {
        "id": "WJnj-hxGh0n1"
      }
    }
  ]
}